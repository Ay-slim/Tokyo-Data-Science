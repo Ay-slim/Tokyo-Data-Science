{
 "cells": [
  {
   "cell_type": "code",
   "execution_count": 1,
   "metadata": {},
   "outputs": [
    {
     "name": "stdout",
     "output_type": "stream",
     "text": [
      "10002\n"
     ]
    }
   ],
   "source": [
    "pixel_space = 2^10000\n",
    "print(pixel_space)"
   ]
  },
  {
   "cell_type": "code",
   "execution_count": 2,
   "metadata": {},
   "outputs": [
    {
     "name": "stdout",
     "output_type": "stream",
     "text": [
      "0.33138656077446677\n"
     ]
    }
   ],
   "source": [
    "import numpy as np\n",
    "x = np.random.uniform(low=0.0, high=1.0, size=10000)\n",
    "y = x**2\n",
    "print(np.mean(y))\n"
   ]
  },
  {
   "cell_type": "code",
   "execution_count": 5,
   "metadata": {},
   "outputs": [],
   "source": [
    "import numpy as np\n",
    "import pandas as pd\n",
    "import seaborn as sns\n",
    "import matplotlib.pyplot as plt\n",
    "import scipy as sp\n",
    "%matplotlib inline"
   ]
  },
  {
   "cell_type": "code",
   "execution_count": 22,
   "metadata": {},
   "outputs": [],
   "source": [
    "def factorial(num):\n",
    "    \"\"\"\n",
    "    Uses recursion to calculate the factorial of a number\n",
    "    args: number\n",
    "    returns: factorial\n",
    "    \"\"\"\n",
    "    if num<0:\n",
    "        return \"Factorial doesn't exist\"\n",
    "    elif num == 0:\n",
    "        return 1\n",
    "    else:\n",
    "        return num*factorial(num-1)"
   ]
  },
  {
   "cell_type": "code",
   "execution_count": 23,
   "metadata": {},
   "outputs": [],
   "source": [
    "def binomial_pmf(n, p, k):\n",
    "    \"\"\"\n",
    "    Calculates the Probability mass function of the binomial distribution (estimate of the \n",
    "    chances of getting k successes)\n",
    "    args: n- number of trials\n",
    "          p- probability of success\n",
    "          k- number of successes for which we're estimating probability\n",
    "    returns: pmf- probabilty of k successes\n",
    "    \"\"\"\n",
    "    n_k = factorial(n)/(factorial(k)*factorial(n-k))\n",
    "    pmf = n_k*(p**k)*((1-p)**(n-k))\n",
    "    return pmf"
   ]
  },
  {
   "cell_type": "code",
   "execution_count": 24,
   "metadata": {},
   "outputs": [
    {
     "data": {
      "text/plain": [
       "0.2001209489999999"
      ]
     },
     "execution_count": 24,
     "metadata": {},
     "output_type": "execute_result"
    }
   ],
   "source": [
    "binomial_pmf(10, 0.3, 4)"
   ]
  },
  {
   "cell_type": "code",
   "execution_count": 15,
   "metadata": {},
   "outputs": [],
   "source": [
    "k_test = [j for j in range(0, 11)]"
   ]
  },
  {
   "cell_type": "code",
   "execution_count": 17,
   "metadata": {},
   "outputs": [],
   "source": [
    "PMF_value = [binomial_pmf(10,0.3, i) for i in k_test]"
   ]
  },
  {
   "cell_type": "code",
   "execution_count": 18,
   "metadata": {},
   "outputs": [
    {
     "data": {
      "text/plain": [
       "[0.02824752489999998,\n",
       " 0.12106082099999993,\n",
       " 0.23347444049999988,\n",
       " 0.2668279319999998,\n",
       " 0.2001209489999999,\n",
       " 0.10291934519999994,\n",
       " 0.03675690899999999,\n",
       " 0.009001691999999995,\n",
       " 0.0014467004999999993,\n",
       " 0.00013778099999999996,\n",
       " 5.9048999999999975e-06]"
      ]
     },
     "execution_count": 18,
     "metadata": {},
     "output_type": "execute_result"
    }
   ],
   "source": [
    "PMF_value"
   ]
  },
  {
   "cell_type": "code",
   "execution_count": 20,
   "metadata": {},
   "outputs": [
    {
     "data": {
      "image/png": "[encoded data removed]",
      "text/plain": [
       "<Figure size 432x288 with 1 Axes>"
      ]
     },
     "metadata": {
      "needs_background": "light"
     },
     "output_type": "display_data"
    }
   ],
   "source": [
    "plt.plot(k_test, PMF_value)\n",
    "plt.grid()"
   ]
  },
  {
   "cell_type": "code",
   "execution_count": 21,
   "metadata": {},
   "outputs": [
    {
     "data": {
      "text/plain": [
       "0.16666666666666666"
      ]
     },
     "execution_count": 21,
     "metadata": {},
     "output_type": "execute_result"
    }
   ],
   "source": [
    "1/6"
   ]
  },
  {
   "cell_type": "code",
   "execution_count": null,
   "metadata": {},
   "outputs": [],
   "source": []
  }
 ],
 "metadata": {
  "kernelspec": {
   "display_name": "Python 3",
   "language": "python",
   "name": "python3"
  },
  "language_info": {
   "codemirror_mode": {
    "name": "ipython",
    "version": 3
   },
   "file_extension": ".py",
   "mimetype": "text/x-python",
   "name": "python",
   "nbconvert_exporter": "python",
   "pygments_lexer": "ipython3",
   "version": "3.7.4"
  }
 },
 "nbformat": 4,
 "nbformat_minor": 2
}
